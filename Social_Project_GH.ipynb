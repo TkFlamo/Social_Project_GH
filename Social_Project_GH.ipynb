{
 "cells": [
  {
   "cell_type": "code",
   "execution_count": 1,
   "id": "e7bb5fb1",
   "metadata": {},
   "outputs": [],
   "source": [
    "import pandas as pd\n",
    "import numpy as np\n",
    "from sklearn.model_selection import train_test_split\n",
    "import torch\n",
    "from torch.utils.data import Dataset, DataLoader\n",
    "import torch.nn as nn\n",
    "from tqdm.notebook import tqdm, trange\n",
    "from sklearn.metrics import f1_score\n",
    "from transformers import AutoTokenizer, AutoModel"
   ]
  },
  {
   "cell_type": "code",
   "execution_count": 32,
   "id": "1f167ee2",
   "metadata": {},
   "outputs": [],
   "source": [
    "data_news = pd.read_csv(\"GH_news.csv\")"
   ]
  },
  {
   "cell_type": "code",
   "execution_count": 33,
   "id": "d837169e",
   "metadata": {},
   "outputs": [
    {
     "data": {
      "text/plain": [
       "Россия               623\n",
       "Мир                  437\n",
       "Спорт                300\n",
       "Бывший СССР          294\n",
       "Экономика            265\n",
       "Силовые структуры    159\n",
       "Интернет и СМИ       142\n",
       "Культура             142\n",
       "Наука и техника      137\n",
       "Из жизни             127\n",
       "Путешествия          125\n",
       "Ценности             108\n",
       "Дом                   77\n",
       "Нацпроекты            50\n",
       "69-я параллель        10\n",
       "Name: rubric, dtype: int64"
      ]
     },
     "execution_count": 33,
     "metadata": {},
     "output_type": "execute_result"
    }
   ],
   "source": [
    "data_news['rubric'].value_counts()"
   ]
  },
  {
   "cell_type": "code",
   "execution_count": 5,
   "id": "3ce3e6cc",
   "metadata": {},
   "outputs": [],
   "source": [
    "data_news['label'] = np.where(data_news['rubric']==\"Россия\", 1, 0)\n",
    "data_news.drop('rubric', axis=1, inplace=True)"
   ]
  },
  {
   "cell_type": "markdown",
   "id": "b08a7cac",
   "metadata": {},
   "source": [
    "Классифицируем по тому, относится ли новость к рубрике \"Россия\"."
   ]
  },
  {
   "cell_type": "code",
   "execution_count": 6,
   "id": "7e79451b",
   "metadata": {},
   "outputs": [
    {
     "name": "stderr",
     "output_type": "stream",
     "text": [
      "Some weights of the model checkpoint at DeepPavlov/rubert-base-cased were not used when initializing BertModel: ['cls.seq_relationship.weight', 'cls.predictions.bias', 'cls.predictions.transform.dense.weight', 'cls.predictions.transform.dense.bias', 'cls.predictions.decoder.weight', 'cls.seq_relationship.bias', 'cls.predictions.transform.LayerNorm.weight', 'cls.predictions.decoder.bias', 'cls.predictions.transform.LayerNorm.bias']\n",
      "- This IS expected if you are initializing BertModel from the checkpoint of a model trained on another task or with another architecture (e.g. initializing a BertForSequenceClassification model from a BertForPreTraining model).\n",
      "- This IS NOT expected if you are initializing BertModel from the checkpoint of a model that you expect to be exactly identical (initializing a BertForSequenceClassification model from a BertForSequenceClassification model).\n"
     ]
    }
   ],
   "source": [
    "tokenizer = AutoTokenizer.from_pretrained('DeepPavlov/rubert-base-cased')\n",
    "bert_embeder = AutoModel.from_pretrained('DeepPavlov/rubert-base-cased')"
   ]
  },
  {
   "cell_type": "code",
   "execution_count": 7,
   "id": "0ed3c81f",
   "metadata": {},
   "outputs": [],
   "source": [
    "def embed_bert(text, model, tokenizer):\n",
    "    t = tokenizer(text, padding=True, truncation=True, return_tensors='pt', max_length=512)\n",
    "    with torch.no_grad():\n",
    "        model_output = model(**{k: v.to(model.device) for k, v in t.items()})\n",
    "    return model_output.last_hidden_state[0]"
   ]
  },
  {
   "cell_type": "code",
   "execution_count": 8,
   "id": "cba325b2",
   "metadata": {},
   "outputs": [],
   "source": [
    "class Bert_embed_data(Dataset):\n",
    "    def __init__(self, df, embeder, tokenizer):\n",
    "        super().__init__()\n",
    "        self.df = df\n",
    "        self.embeder = embeder\n",
    "        self.tokenizer = tokenizer\n",
    "        self.embeds = []\n",
    "        pbar = tqdm(self.df[\"text\"], leave=False)\n",
    "        for text in pbar:\n",
    "            self.embeds.append(embed_bert(text, self.embeder, self.tokenizer))\n",
    "                      \n",
    "    def __len__(self):\n",
    "        return len(self.df)\n",
    "  \n",
    "    def __getitem__(self, index):\n",
    "        label = self.df[\"label\"][index].astype(np.int64)\n",
    "        input_embed = self.embeds[index]\n",
    "        return input_embed, label"
   ]
  },
  {
   "cell_type": "code",
   "execution_count": 9,
   "id": "f3331461",
   "metadata": {},
   "outputs": [],
   "source": [
    "data_train, data_test = train_test_split(data_news, test_size=0.2, shuffle=True, random_state=42)\n",
    "data_train = data_train.reset_index()\n",
    "data_test = data_test.reset_index()"
   ]
  },
  {
   "cell_type": "code",
   "execution_count": 10,
   "id": "5b651a14",
   "metadata": {},
   "outputs": [
    {
     "data": {
      "application/vnd.jupyter.widget-view+json": {
       "model_id": "",
       "version_major": 2,
       "version_minor": 0
      },
      "text/plain": [
       "  0%|          | 0/2396 [00:00<?, ?it/s]"
      ]
     },
     "metadata": {},
     "output_type": "display_data"
    },
    {
     "data": {
      "application/vnd.jupyter.widget-view+json": {
       "model_id": "",
       "version_major": 2,
       "version_minor": 0
      },
      "text/plain": [
       "  0%|          | 0/600 [00:00<?, ?it/s]"
      ]
     },
     "metadata": {},
     "output_type": "display_data"
    }
   ],
   "source": [
    "#долгий шаг, получаем эмбеддинги из RuBert\n",
    "train_dataset = Bert_embed_data(data_train, bert_embeder, tokenizer)\n",
    "test_dataset = Bert_embed_data(data_test, bert_embeder, tokenizer)"
   ]
  },
  {
   "cell_type": "code",
   "execution_count": 11,
   "id": "dd00017f",
   "metadata": {},
   "outputs": [],
   "source": [
    "loaders = {\n",
    "    'train': DataLoader(train_dataset, shuffle=True, batch_size=1),\n",
    "    'test': DataLoader(test_dataset, shuffle=False, batch_size=1)\n",
    "}"
   ]
  },
  {
   "cell_type": "code",
   "execution_count": 12,
   "id": "265f81dd",
   "metadata": {},
   "outputs": [],
   "source": [
    "device = 'cuda'"
   ]
  },
  {
   "cell_type": "code",
   "execution_count": 13,
   "id": "61c4bff1",
   "metadata": {},
   "outputs": [],
   "source": [
    "def training(model, criterion, optimizer, num_epochs, loaders, max_grad_norm=2):\n",
    "    best_f1 = 0\n",
    "    for e in trange(num_epochs, leave=False):\n",
    "        model.train()\n",
    "        num_iter = 0\n",
    "        pbar = tqdm(loaders[\"train\"], leave=False)\n",
    "        for input_embeds, labels in pbar:\n",
    "            optimizer.zero_grad()\n",
    "            input_embeds = input_embeds.to(device)\n",
    "            labels = labels.to(device)\n",
    "            prediction = model(input_embeds)\n",
    "            loss = criterion(prediction, labels)\n",
    "            loss.backward()\n",
    "            if max_grad_norm is not None:\n",
    "                torch.nn.utils.clip_grad_norm_(model.parameters(), max_grad_norm)\n",
    "            optimizer.step()\n",
    "            num_iter += 1\n",
    "        valid_loss = 0\n",
    "        valid_acc = 0\n",
    "        num_iter = 0\n",
    "        model.eval()\n",
    "        with torch.no_grad():\n",
    "            correct = 0\n",
    "            num_objs = 0\n",
    "            pbar = tqdm(loaders[\"test\"], leave=False)\n",
    "            all_preds = []\n",
    "            all_trues = []\n",
    "            for input_embeds, labels in pbar:\n",
    "                input_embeds = input_embeds.to(device)\n",
    "                labels = labels.to(device)\n",
    "                prediction = model(input_embeds)\n",
    "                valid_loss += criterion(prediction, labels)\n",
    "                correct += (labels == prediction.argmax(-1)).float().sum()\n",
    "                all_preds += prediction.cpu().argmax(-1)\n",
    "                all_trues += labels.cpu()\n",
    "                num_objs += len(labels)\n",
    "                num_iter += 1\n",
    "        if (f1_score(all_preds, all_trues) > best_f1):\n",
    "            best_f1 = f1_score(all_preds, all_trues)\n",
    "            torch.save(model.state_dict(), 'best_model_dict.pth')\n",
    "        print(f\"Valid Loss: {valid_loss / num_iter}, accuracy: {correct/num_objs}, f1: {f1_score(all_preds, all_trues)}\")\n",
    "    best_model_dict = torch.load('best_model_dict.pth')\n",
    "    model.load_state_dict(best_model_dict)\n",
    "    return model"
   ]
  },
  {
   "cell_type": "code",
   "execution_count": 25,
   "id": "fcb80914",
   "metadata": {},
   "outputs": [],
   "source": [
    "class LSTMModel(nn.Module):\n",
    "    def __init__(self, embed_size, hidden_size, batch_size=1, num_classes=2):\n",
    "        super().__init__()\n",
    "        self.batch_size = batch_size\n",
    "        self.lstm = nn.LSTM(embed_size, hidden_size, 1, batch_first=True)\n",
    "        self.ln1 = nn.Linear(hidden_size, num_classes)\n",
    "\n",
    "    def forward(self, x):\n",
    "        output, (hn, cn) = self.lstm(x)\n",
    "        output = output.max(dim=1)[0]\n",
    "        output = self.ln1(output)\n",
    "        return output"
   ]
  },
  {
   "cell_type": "code",
   "execution_count": 26,
   "id": "6cc5165a",
   "metadata": {},
   "outputs": [],
   "source": [
    "model = LSTMModel(768, 300).to(device)\n",
    "criterion = nn.CrossEntropyLoss()\n",
    "optimizer = torch.optim.Adam(model.parameters(), lr=1e-3)\n",
    "\n",
    "num_epochs = 5"
   ]
  },
  {
   "cell_type": "code",
   "execution_count": 27,
   "id": "81904381",
   "metadata": {},
   "outputs": [
    {
     "data": {
      "application/vnd.jupyter.widget-view+json": {
       "model_id": "",
       "version_major": 2,
       "version_minor": 0
      },
      "text/plain": [
       "  0%|          | 0/5 [00:00<?, ?it/s]"
      ]
     },
     "metadata": {},
     "output_type": "display_data"
    },
    {
     "data": {
      "application/vnd.jupyter.widget-view+json": {
       "model_id": "",
       "version_major": 2,
       "version_minor": 0
      },
      "text/plain": [
       "  0%|          | 0/2396 [00:00<?, ?it/s]"
      ]
     },
     "metadata": {},
     "output_type": "display_data"
    },
    {
     "data": {
      "application/vnd.jupyter.widget-view+json": {
       "model_id": "",
       "version_major": 2,
       "version_minor": 0
      },
      "text/plain": [
       "  0%|          | 0/600 [00:00<?, ?it/s]"
      ]
     },
     "metadata": {},
     "output_type": "display_data"
    },
    {
     "name": "stdout",
     "output_type": "stream",
     "text": [
      "Valid Loss: 0.18474195897579193, accuracy: 0.92166668176651, f1: 0.7965367965367965\n"
     ]
    },
    {
     "data": {
      "application/vnd.jupyter.widget-view+json": {
       "model_id": "",
       "version_major": 2,
       "version_minor": 0
      },
      "text/plain": [
       "  0%|          | 0/2396 [00:00<?, ?it/s]"
      ]
     },
     "metadata": {},
     "output_type": "display_data"
    },
    {
     "data": {
      "application/vnd.jupyter.widget-view+json": {
       "model_id": "",
       "version_major": 2,
       "version_minor": 0
      },
      "text/plain": [
       "  0%|          | 0/600 [00:00<?, ?it/s]"
      ]
     },
     "metadata": {},
     "output_type": "display_data"
    },
    {
     "name": "stdout",
     "output_type": "stream",
     "text": [
      "Valid Loss: 0.19066227972507477, accuracy: 0.9283333420753479, f1: 0.825910931174089\n"
     ]
    },
    {
     "data": {
      "application/vnd.jupyter.widget-view+json": {
       "model_id": "",
       "version_major": 2,
       "version_minor": 0
      },
      "text/plain": [
       "  0%|          | 0/2396 [00:00<?, ?it/s]"
      ]
     },
     "metadata": {},
     "output_type": "display_data"
    },
    {
     "data": {
      "application/vnd.jupyter.widget-view+json": {
       "model_id": "",
       "version_major": 2,
       "version_minor": 0
      },
      "text/plain": [
       "  0%|          | 0/600 [00:00<?, ?it/s]"
      ]
     },
     "metadata": {},
     "output_type": "display_data"
    },
    {
     "name": "stdout",
     "output_type": "stream",
     "text": [
      "Valid Loss: 0.1922176033258438, accuracy: 0.9300000071525574, f1: 0.8432835820895523\n"
     ]
    },
    {
     "data": {
      "application/vnd.jupyter.widget-view+json": {
       "model_id": "",
       "version_major": 2,
       "version_minor": 0
      },
      "text/plain": [
       "  0%|          | 0/2396 [00:00<?, ?it/s]"
      ]
     },
     "metadata": {},
     "output_type": "display_data"
    },
    {
     "data": {
      "application/vnd.jupyter.widget-view+json": {
       "model_id": "",
       "version_major": 2,
       "version_minor": 0
      },
      "text/plain": [
       "  0%|          | 0/600 [00:00<?, ?it/s]"
      ]
     },
     "metadata": {},
     "output_type": "display_data"
    },
    {
     "name": "stdout",
     "output_type": "stream",
     "text": [
      "Valid Loss: 0.270796000957489, accuracy: 0.9316666722297668, f1: 0.8464419475655431\n"
     ]
    },
    {
     "data": {
      "application/vnd.jupyter.widget-view+json": {
       "model_id": "",
       "version_major": 2,
       "version_minor": 0
      },
      "text/plain": [
       "  0%|          | 0/2396 [00:00<?, ?it/s]"
      ]
     },
     "metadata": {},
     "output_type": "display_data"
    },
    {
     "data": {
      "application/vnd.jupyter.widget-view+json": {
       "model_id": "",
       "version_major": 2,
       "version_minor": 0
      },
      "text/plain": [
       "  0%|          | 0/600 [00:00<?, ?it/s]"
      ]
     },
     "metadata": {},
     "output_type": "display_data"
    },
    {
     "name": "stdout",
     "output_type": "stream",
     "text": [
      "Valid Loss: 0.26996418833732605, accuracy: 0.9316666722297668, f1: 0.8416988416988418\n"
     ]
    }
   ],
   "source": [
    "best_model = training(model, criterion, optimizer, num_epochs, loaders)"
   ]
  },
  {
   "cell_type": "code",
   "execution_count": 28,
   "id": "615ade7c",
   "metadata": {},
   "outputs": [],
   "source": [
    "torch.save(best_model, \"Social_Project_model.pkl\")"
   ]
  }
 ],
 "metadata": {
  "kernelspec": {
   "display_name": "Python 3 (ipykernel)",
   "language": "python",
   "name": "python3"
  },
  "language_info": {
   "codemirror_mode": {
    "name": "ipython",
    "version": 3
   },
   "file_extension": ".py",
   "mimetype": "text/x-python",
   "name": "python",
   "nbconvert_exporter": "python",
   "pygments_lexer": "ipython3",
   "version": "3.9.12"
  }
 },
 "nbformat": 4,
 "nbformat_minor": 5
}
